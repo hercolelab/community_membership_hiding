{
 "cells": [
  {
   "cell_type": "code",
   "execution_count": 16,
   "metadata": {},
   "outputs": [
    {
     "name": "stdout",
     "output_type": "stream",
     "text": [
      "$0.5$ & $83.9\\% \\pm 4.8\\%$ & $74.9\\% \\pm 5.7\\%$ & $63.7\\% \\pm 6.3\\%$ & $81.6\\% \\pm 5.1\\%$ & $52.0\\% \\pm 6.6\\%$ & $61.4\\% \\pm 6.4\\%$ & $82.1\\% \\pm 5.0\\%$ \\\\\n",
      "$1$ & $99.6\\% \\pm 0.9\\%$ & $88.8\\% \\pm 4.1\\%$ & $91.0\\% \\pm 3.8\\%$ & $58.7\\% \\pm 6.5\\%$ & $58.3\\% \\pm 6.5\\%$ & $27.4\\% \\pm 5.9\\%$ & $91.0\\% \\pm 3.8\\%$ \\\\\n",
      "$2$ & $99.6\\% \\pm 0.9\\%$ & $85.2\\% \\pm 4.7\\%$ & $75.3\\% \\pm 5.7\\%$ & $66.8\\% \\pm 6.2\\%$ & $62.3\\% \\pm 6.4\\%$ & $66.4\\% \\pm 6.2\\%$ & $81.2\\% \\pm 5.1\\%$ \\\\\n"
     ]
    }
   ],
   "source": [
    "import os\n",
    "import json\n",
    "import numpy as np\n",
    "import scipy.stats as st\n",
    "import math \n",
    "from typing import List\n",
    "\n",
    "def confidence_binary_test(x: List[int]):\n",
    "    n = len(x)\n",
    "    p = sum(x) / n\n",
    "    z = 1.96  # 95% confidence level\n",
    "    std_error = math.sqrt(p * (1 - p) / n)\n",
    "    margin_of_error = z * std_error\n",
    "\n",
    "    lower_bound = p - margin_of_error\n",
    "    upper_bound = p + margin_of_error\n",
    "\n",
    "    # lower_bound *= 100\n",
    "    # upper_bound *= 100\n",
    "    return margin_of_error\n",
    "\n",
    "def extract_values_for_latex_table(base_path):\n",
    "    betas = [0.5, 1, 2]\n",
    "    methods = [\"DCMH\", \"Agent\",\"Random\",\"Degree\",\"Centrality\",\"Roam\",\"Greedy\"]\n",
    "    latex_rows = []\n",
    "\n",
    "    for beta in betas:\n",
    "        file_path = os.path.join(base_path, f'beta_{beta}', 'evaluation_node_hiding.json')\n",
    "        with open(file_path, 'r') as file:\n",
    "            data = json.load(file)\n",
    "        \n",
    "        row_values = [f'${beta}$']\n",
    "        for method in methods:\n",
    "            values = data[method][\"goal\"]\n",
    "            mean_value = np.mean(values) * 100\n",
    "            ci = confidence_binary_test(values) * 100\n",
    "            row_values.append(f'${mean_value:.1f}\\\\% \\\\pm {ci:.1f}\\\\%$')\n",
    "        \n",
    "        latex_rows.append(' & '.join(row_values) + ' \\\\\\\\')\n",
    "\n",
    "    return '\\n'.join(latex_rows)\n",
    "\n",
    "tau = 0.8\n",
    "base_path = f'../test_review/vote/greedy/node_hiding/tau_{tau}'\n",
    "latex_table = extract_values_for_latex_table(base_path)\n",
    "print(latex_table)"
   ]
  },
  {
   "cell_type": "code",
   "execution_count": 5,
   "metadata": {},
   "outputs": [
    {
     "name": "stdout",
     "output_type": "stream",
     "text": [
      "$3$ & $2.5 (82.8\\%)$ \\\\\n",
      "$3$ & $2.2 (71.8\\%)$ \\\\\n",
      "$3$ & $2.1 (69.3\\%)$ \\\\\n",
      "$2$ & $1.4 (68.1\\%)$ \\\\\n",
      "$34$ & $17.4 (51.0\\%)$ \\\\\n"
     ]
    }
   ],
   "source": [
    "import os\n",
    "import json\n",
    "import numpy as np\n",
    "import scipy.stats as st\n",
    "import math \n",
    "from typing import List\n",
    "\n",
    "\n",
    "def extract_values_for_latex_table(base_path, tau, beta, alg):\n",
    "    datasets = ['kar','words','vote', 'pow','fb']\n",
    "    latex_rows = []\n",
    "\n",
    "    for dataset in datasets:\n",
    "        file_path = os.path.join(base_path, f'{dataset}', f'{alg}', 'node_hiding', f'tau_{tau}', f'beta_{beta}', 'evaluation_node_hiding.json')\n",
    "        with open(file_path, 'r') as file:\n",
    "            data = json.load(file)\n",
    "        \n",
    "        budget = np.mean([data[\"DCMH\"][\"steps\"][i] for i in range(len(data[\"DCMH\"][\"goal\"])) if data[\"DCMH\"][\"goal\"][i] == 1])\n",
    "        total_budget = data[\"Random\"][\"steps\"][0]\n",
    "        percentage_diff = (budget / total_budget) * 100\n",
    "        row_values = [f'${total_budget}$', f'${budget:.1f} ({percentage_diff:.1f}\\\\%)$']\n",
    "        \n",
    "        latex_rows.append(' & '.join(row_values) + ' \\\\\\\\')\n",
    "\n",
    "    return '\\n'.join(latex_rows)\n",
    "\n",
    "tau = 0.5\n",
    "beta = 1\n",
    "alg = 'greedy'\n",
    "base_path = f'../test_review'\n",
    "latex_table = extract_values_for_latex_table(base_path, tau,beta,alg)\n",
    "print(latex_table)"
   ]
  },
  {
   "cell_type": "code",
   "execution_count": 11,
   "metadata": {},
   "outputs": [
    {
     "name": "stdout",
     "output_type": "stream",
     "text": [
      "$0.015$ & $0.019$ & $\\times 1.226 \\blacktriangle$ \\\\\n",
      "$0.013$ & $0.041$ & $\\times 3.096 \\blacktriangle$ \\\\\n",
      "$0.081$ & $0.261$ & $\\times 3.214 \\blacktriangle$ \\\\\n",
      "$0.208$ & $0.549$ & $\\times 2.645 \\blacktriangle$ \\\\\n",
      "$23.988$ & $128.267$ & $\\times 5.347 \\blacktriangle$ \\\\\n"
     ]
    }
   ],
   "source": [
    "import os\n",
    "import json\n",
    "import numpy as np\n",
    "import scipy.stats as st\n",
    "import math \n",
    "from typing import List\n",
    "\n",
    "\n",
    "def extract_values_for_latex_table(base_path, tau, beta, alg):\n",
    "    datasets = ['kar','words','vote', 'pow','fb']\n",
    "    latex_rows = []\n",
    "\n",
    "    for dataset in datasets:\n",
    "        file_path = os.path.join(base_path, f'{dataset}', f'{alg}', 'node_hiding', f'tau_{tau}', f'beta_{beta}', 'evaluation_node_hiding.json')\n",
    "        with open(file_path, 'r') as file:\n",
    "            data = json.load(file)\n",
    "        \n",
    "        time_dcmh = np.mean(data[\"DCMH\"][\"time\"])\n",
    "        time_drl = np.mean(data[\"Agent\"][\"time\"])\n",
    "        speedup = time_drl / time_dcmh\n",
    "        row_values = [f'${time_dcmh:.3f}$', f'${time_drl:.3f}$', f'$\\\\times {speedup:.3f} \\\\blacktriangle$']\n",
    "        \n",
    "        latex_rows.append(' & '.join(row_values) + ' \\\\\\\\')\n",
    "\n",
    "    return '\\n'.join(latex_rows)\n",
    "\n",
    "tau = 0.5\n",
    "beta = 1\n",
    "alg = 'greedy'\n",
    "base_path = f'../test_review'\n",
    "latex_table = extract_values_for_latex_table(base_path, tau,beta,alg)\n",
    "print(latex_table)"
   ]
  }
 ],
 "metadata": {
  "kernelspec": {
   "display_name": "socialnets",
   "language": "python",
   "name": "python3"
  },
  "language_info": {
   "codemirror_mode": {
    "name": "ipython",
    "version": 3
   },
   "file_extension": ".py",
   "mimetype": "text/x-python",
   "name": "python",
   "nbconvert_exporter": "python",
   "pygments_lexer": "ipython3",
   "version": "3.9.18"
  }
 },
 "nbformat": 4,
 "nbformat_minor": 2
}
